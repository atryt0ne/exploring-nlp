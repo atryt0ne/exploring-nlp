{
 "cells": [
  {
   "cell_type": "markdown",
   "metadata": {},
   "source": [
    "# Corpora\n",
    "\n",
    "- A large body of linguistic data is called a corpus\n",
    "- We prefer using these over a single text as they have much much more data to study and learn patterns from"
   ]
  },
  {
   "cell_type": "markdown",
   "metadata": {},
   "source": [
    "## Corpora available in NLTK\n",
    "\n",
    "### 1. Gutenberg"
   ]
  },
  {
   "cell_type": "code",
   "execution_count": 1,
   "metadata": {},
   "outputs": [],
   "source": [
    "import nltk"
   ]
  },
  {
   "cell_type": "code",
   "execution_count": 2,
   "metadata": {},
   "outputs": [
    {
     "data": {
      "text/plain": [
       "['austen-emma.txt',\n",
       " 'austen-persuasion.txt',\n",
       " 'austen-sense.txt',\n",
       " 'bible-kjv.txt',\n",
       " 'blake-poems.txt',\n",
       " 'bryant-stories.txt',\n",
       " 'burgess-busterbrown.txt',\n",
       " 'carroll-alice.txt',\n",
       " 'chesterton-ball.txt',\n",
       " 'chesterton-brown.txt',\n",
       " 'chesterton-thursday.txt',\n",
       " 'edgeworth-parents.txt',\n",
       " 'melville-moby_dick.txt',\n",
       " 'milton-paradise.txt',\n",
       " 'shakespeare-caesar.txt',\n",
       " 'shakespeare-hamlet.txt',\n",
       " 'shakespeare-macbeth.txt',\n",
       " 'whitman-leaves.txt']"
      ]
     },
     "execution_count": 2,
     "metadata": {},
     "output_type": "execute_result"
    }
   ],
   "source": [
    "from nltk.corpus import gutenberg\n",
    "gutenberg.fileids()"
   ]
  },
  {
   "cell_type": "code",
   "execution_count": 3,
   "metadata": {},
   "outputs": [
    {
     "data": {
      "text/plain": [
       "192427"
      ]
     },
     "execution_count": 3,
     "metadata": {},
     "output_type": "execute_result"
    }
   ],
   "source": [
    "emma = gutenberg.words('austen-emma.txt')\n",
    "len(emma)"
   ]
  },
  {
   "cell_type": "markdown",
   "metadata": {},
   "source": [
    "#### Inspecting the Contents"
   ]
  },
  {
   "cell_type": "code",
   "execution_count": 8,
   "metadata": {},
   "outputs": [
    {
     "name": "stdout",
     "output_type": "stream",
     "text": [
      "Average Word Length\t\tAverage Sentence Length\t\tAverage Word Frequency\t\tName\n",
      "5\t\t\t\t25\t\t\t\t26\t\t\t\tausten-emma.txt\n",
      "5\t\t\t\t26\t\t\t\t17\t\t\t\tausten-persuasion.txt\n",
      "5\t\t\t\t28\t\t\t\t22\t\t\t\tausten-sense.txt\n",
      "4\t\t\t\t34\t\t\t\t79\t\t\t\tbible-kjv.txt\n",
      "5\t\t\t\t19\t\t\t\t5\t\t\t\tblake-poems.txt\n",
      "4\t\t\t\t19\t\t\t\t14\t\t\t\tbryant-stories.txt\n",
      "4\t\t\t\t18\t\t\t\t12\t\t\t\tburgess-busterbrown.txt\n",
      "4\t\t\t\t20\t\t\t\t13\t\t\t\tcarroll-alice.txt\n",
      "5\t\t\t\t20\t\t\t\t12\t\t\t\tchesterton-ball.txt\n",
      "5\t\t\t\t23\t\t\t\t11\t\t\t\tchesterton-brown.txt\n",
      "5\t\t\t\t19\t\t\t\t11\t\t\t\tchesterton-thursday.txt\n",
      "4\t\t\t\t21\t\t\t\t25\t\t\t\tedgeworth-parents.txt\n",
      "5\t\t\t\t26\t\t\t\t15\t\t\t\tmelville-moby_dick.txt\n",
      "5\t\t\t\t52\t\t\t\t11\t\t\t\tmilton-paradise.txt\n",
      "4\t\t\t\t12\t\t\t\t9\t\t\t\tshakespeare-caesar.txt\n",
      "4\t\t\t\t12\t\t\t\t8\t\t\t\tshakespeare-hamlet.txt\n",
      "4\t\t\t\t12\t\t\t\t7\t\t\t\tshakespeare-macbeth.txt\n",
      "5\t\t\t\t36\t\t\t\t12\t\t\t\twhitman-leaves.txt\n"
     ]
    }
   ],
   "source": [
    "print('Average Word Length\\t\\tAverage Sentence Length\\t\\tAverage Word Frequency\\t\\tName')\n",
    "for file in gutenberg.fileids():\n",
    "    chars = len(gutenberg.raw(file))\n",
    "    words = len(gutenberg.words(file))\n",
    "    sents = len(gutenberg.sents(file))\n",
    "    vocab = len(set(w.lower() for w in gutenberg.words(file)))\n",
    "    print(f'{round(chars/words)}\\t\\t\\t\\t{round(words/sents)}\\t\\t\\t\\t{round(words/vocab)}\\t\\t\\t\\t{file}')"
   ]
  },
  {
   "cell_type": "markdown",
   "metadata": {},
   "source": [
    "### 2. Web and Chat"
   ]
  },
  {
   "cell_type": "code",
   "execution_count": 9,
   "metadata": {},
   "outputs": [
    {
     "name": "stdout",
     "output_type": "stream",
     "text": [
      "firefox.txt Cookie Manager: \"Don't allow sites that set remove ...\n",
      "grail.txt SCENE 1: [wind] [clop clop clop] \n",
      "KING ARTHUR: Who ...\n",
      "overheard.txt White guy: So, do you have any plans for this even ...\n",
      "pirates.txt PIRATES OF THE CARRIBEAN: DEAD MAN'S CHEST, by Ted ...\n",
      "singles.txt 25 SEXY MALE, seeks attrac older single lady, for  ...\n",
      "wine.txt Lovely delicate, fragrant Rhone wine. Polished lea ...\n"
     ]
    }
   ],
   "source": [
    "from nltk.corpus import webtext\n",
    "for file in webtext.fileids():\n",
    "    print(file,webtext.raw(file)[:50],'...')"
   ]
  },
  {
   "cell_type": "code",
   "execution_count": 12,
   "metadata": {},
   "outputs": [
    {
     "data": {
      "text/plain": [
       "['Hi', 'U121']"
      ]
     },
     "execution_count": 12,
     "metadata": {},
     "output_type": "execute_result"
    }
   ],
   "source": [
    "from nltk.corpus import nps_chat\n",
    "chatroom = nps_chat.posts('10-19-20s_706posts.xml')\n",
    "chatroom[150]"
   ]
  },
  {
   "cell_type": "markdown",
   "metadata": {},
   "source": [
    "### 3. Brown Corpus"
   ]
  },
  {
   "cell_type": "code",
   "execution_count": 13,
   "metadata": {},
   "outputs": [
    {
     "data": {
      "text/plain": [
       "['adventure',\n",
       " 'belles_lettres',\n",
       " 'editorial',\n",
       " 'fiction',\n",
       " 'government',\n",
       " 'hobbies',\n",
       " 'humor',\n",
       " 'learned',\n",
       " 'lore',\n",
       " 'mystery',\n",
       " 'news',\n",
       " 'religion',\n",
       " 'reviews',\n",
       " 'romance',\n",
       " 'science_fiction']"
      ]
     },
     "execution_count": 13,
     "metadata": {},
     "output_type": "execute_result"
    }
   ],
   "source": [
    "from nltk.corpus import brown\n",
    "brown.categories()"
   ]
  },
  {
   "cell_type": "markdown",
   "metadata": {},
   "source": [
    "There are various other corpora, but let's move on to something more interesting"
   ]
  }
 ],
 "metadata": {
  "kernelspec": {
   "display_name": "Python 3.7.13 ('nlp')",
   "language": "python",
   "name": "python3"
  },
  "language_info": {
   "codemirror_mode": {
    "name": "ipython",
    "version": 3
   },
   "file_extension": ".py",
   "mimetype": "text/x-python",
   "name": "python",
   "nbconvert_exporter": "python",
   "pygments_lexer": "ipython3",
   "version": "3.7.13"
  },
  "orig_nbformat": 4,
  "vscode": {
   "interpreter": {
    "hash": "35b9a1e2d041e3402ffba0a80d7fddfb45d01f3f271e9b95454d28d344cac022"
   }
  }
 },
 "nbformat": 4,
 "nbformat_minor": 2
}
